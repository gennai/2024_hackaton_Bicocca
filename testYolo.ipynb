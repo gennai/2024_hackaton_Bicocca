{
  "nbformat": 4,
  "nbformat_minor": 0,
  "metadata": {
    "colab": {
      "provenance": [],
      "authorship_tag": "ABX9TyNChkmqo+AIeDEqQ4txU5q1",
      "include_colab_link": true
    },
    "kernelspec": {
      "name": "python3",
      "display_name": "Python 3"
    },
    "language_info": {
      "name": "python"
    }
  },
  "cells": [
    {
      "cell_type": "markdown",
      "metadata": {
        "id": "view-in-github",
        "colab_type": "text"
      },
      "source": [
        "<a href=\"https://colab.research.google.com/github/gennai/2024_hackaton_Bicocca/blob/main/testYolo.ipynb\" target=\"_parent\"><img src=\"https://colab.research.google.com/assets/colab-badge.svg\" alt=\"Open In Colab\"/></a>"
      ]
    },
    {
      "cell_type": "code",
      "execution_count": 5,
      "metadata": {
        "colab": {
          "base_uri": "https://localhost:8080/"
        },
        "id": "xWti1s8J7r88",
        "outputId": "9e670663-52bf-45e3-bfae-14f7f420247c"
      },
      "outputs": [
        {
          "output_type": "stream",
          "name": "stdout",
          "text": [
            "Drive already mounted at /content/drive; to attempt to forcibly remount, call drive.mount(\"/content/drive\", force_remount=True).\n",
            "brain-tumor-classification-dataset\n"
          ]
        }
      ],
      "source": [
        "from google.colab import drive\n",
        "drive.mount('/content/drive')"
      ]
    },
    {
      "cell_type": "code",
      "source": [
        "import os\n",
        "import cv2\n",
        "driveDir = \"/content/drive/My Drive/KaggleTumorsDataset/brain-tumor-classification-dataset\"\n",
        "train_dir = \"Training\"\n",
        "train_dir = os.path.join(driveDir, train_dir)\n",
        "print(os.listdir(driveDir))\n",
        "categories = ['no_tumor', 'meningioma_tumor', 'glioma_tumor', 'pituitary_tumor']\n",
        "\n",
        "size_threshold = (10,10)\n",
        "valid_extensions=('.jpg', '.png', '.jpeg')\n"
      ],
      "metadata": {
        "colab": {
          "base_uri": "https://localhost:8080/"
        },
        "id": "ThyF9toB8rz5",
        "outputId": "7c095112-56db-48cf-8bfd-38a033a92870"
      },
      "execution_count": 17,
      "outputs": [
        {
          "output_type": "stream",
          "name": "stdout",
          "text": [
            "['Testing', 'Training']\n"
          ]
        }
      ]
    },
    {
      "cell_type": "code",
      "source": [
        "def is_image_corrupt(image_path):\n",
        "    try:\n",
        "        img = cv2.imread(image_path)\n",
        "        if img is None:\n",
        "            return True\n",
        "        return False\n",
        "    except:\n",
        "        return True\n",
        "\n",
        "def is_image_below_threshold(img_path):\n",
        "    img = cv2.imread(image_path)\n",
        "    if img.shape <= size_threshold:\n",
        "        print(img.shape)\n",
        "        return True\n",
        "    return False\n",
        "\n",
        "\n",
        "for each_category in categories:\n",
        "    folder_path = os.path.join(train_dir, each_category)\n",
        "    for each_file in os.listdir(folder_path):\n",
        "        image_path = os.path.join(folder_path, each_file)\n",
        "        if os.path.isfile(image_path) and each_file.lower().endswith(valid_extensions):\n",
        "            if is_image_corrupt(image_path) or is_image_below_threshold(image_path):\n",
        "                os.remove(image_path)\n",
        "                print(f\"Removed corrupt image: {each_file}\")"
      ],
      "metadata": {
        "id": "RB88AnyZ-w0y"
      },
      "execution_count": null,
      "outputs": []
    },
    {
      "cell_type": "code",
      "source": [
        "import matplotlib.pyplot as plt\n"
      ],
      "metadata": {
        "id": "8JeRe2Rg_J0U"
      },
      "execution_count": null,
      "outputs": []
    }
  ]
}